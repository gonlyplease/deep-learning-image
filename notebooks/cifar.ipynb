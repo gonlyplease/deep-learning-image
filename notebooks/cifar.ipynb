{
 "cells": [
  {
   "cell_type": "code",
   "execution_count": 1,
   "metadata": {},
   "outputs": [
    {
     "name": "stderr",
     "output_type": "stream",
     "text": [
      "100%|██████████| 170M/170M [00:09<00:00, 18.1MB/s] \n",
      "Batches verarbeiten: 100%|██████████| 782/782 [00:02<00:00, 270.96it/s]"
     ]
    },
    {
     "name": "stdout",
     "output_type": "stream",
     "text": [
      "Extraktion abgeschlossen. Features-Shape: (50000, 24)\n"
     ]
    },
    {
     "name": "stderr",
     "output_type": "stream",
     "text": [
      "\n"
     ]
    }
   ],
   "source": [
    "import torch\n",
    "import torchvision\n",
    "import torchvision.transforms as transforms\n",
    "import numpy as np\n",
    "from tqdm import tqdm\n",
    "import cv2\n",
    "\n",
    "def extract_color_histogram(image, bins=8):\n",
    "    \"\"\"\n",
    "    Extrahiert einen normalisierten Farbhistogramm-Vektor aus einem Bild (RGB, uint8).\n",
    "    \"\"\"\n",
    "    chans = cv2.split(image)\n",
    "    features = []\n",
    "    for chan in chans:\n",
    "        hist = cv2.calcHist([chan], [0], None, [bins], [0, 256])\n",
    "        hist = cv2.normalize(hist, hist).flatten()\n",
    "        features.extend(hist)\n",
    "    return np.array(features)\n",
    "\n",
    "def run_cifar10_experiment_batchwise(bins=8):\n",
    "    # CIFAR-10 mit transform zum Tensor laden\n",
    "    transform = transforms.Compose([transforms.ToTensor()])\n",
    "    cifar10_dataset = torchvision.datasets.CIFAR10(\n",
    "        root='./data', train=True, download=True, transform=transform\n",
    "    )\n",
    "    \n",
    "    # DataLoader: Batchweise Laden, damit nicht alle Bilder gleichzeitig im Speicher sind\n",
    "    loader = torch.utils.data.DataLoader(cifar10_dataset, batch_size=64, shuffle=False)\n",
    "    \n",
    "    all_features = []\n",
    "    all_labels = []\n",
    "    \n",
    "    # Bilder batchweise verarbeiten\n",
    "    for images, labels in tqdm(loader, desc=\"Batches verarbeiten\"):\n",
    "        # images: Tensor der Form (B, C, H, W)\n",
    "        for img, label in zip(images, labels):\n",
    "            # Von Tensor (C, H, W) zu numpy (H, W, C) konvertieren\n",
    "            img_np = img.permute(1, 2, 0).numpy()\n",
    "            # Umwandeln in uint8\n",
    "            img_np = (img_np * 255).astype(np.uint8)\n",
    "            feat = extract_color_histogram(img_np, bins=bins)\n",
    "            all_features.append(feat)\n",
    "            all_labels.append(label.item())\n",
    "    \n",
    "    all_features = np.array(all_features)\n",
    "    all_labels = np.array(all_labels)\n",
    "    print(\"Extraktion abgeschlossen. Features-Shape:\", all_features.shape)\n",
    "    \n",
    "    # Hier kannst du dann mit den extrahierten Features weitermachen (z.B. Train-Test-Split, Klassifikator-Training usw.)\n",
    "    # ...\n",
    "    \n",
    "    return all_features, all_labels\n",
    "\n",
    "if __name__ == \"__main__\":\n",
    "    features, labels = run_cifar10_experiment_batchwise(bins=8)\n"
   ]
  }
 ],
 "metadata": {
  "kernelspec": {
   "display_name": "ex3-venv",
   "language": "python",
   "name": "python3"
  },
  "language_info": {
   "codemirror_mode": {
    "name": "ipython",
    "version": 3
   },
   "file_extension": ".py",
   "mimetype": "text/x-python",
   "name": "python",
   "nbconvert_exporter": "python",
   "pygments_lexer": "ipython3",
   "version": "3.10.0"
  }
 },
 "nbformat": 4,
 "nbformat_minor": 2
}
